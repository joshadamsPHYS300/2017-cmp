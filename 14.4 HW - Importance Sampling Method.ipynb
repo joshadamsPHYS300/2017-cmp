{
 "cells": [
  {
   "cell_type": "markdown",
   "metadata": {
    "deletable": true,
    "editable": true
   },
   "source": [
    "## 14.4 Homework\n",
    "\n",
    "Calculate a value for the integral\n",
    "\n",
    "$$ I = \\int_0 ^1 \\frac{x^{-1/2}}{e^x + 1} dx $$\n",
    "\n",
    "using the importance sampling method with $w(x) = x^{-1/2}$, with 1,000,000 random points."
   ]
  },
  {
   "cell_type": "code",
   "execution_count": 23,
   "metadata": {
    "collapsed": false,
    "deletable": true,
    "editable": true
   },
   "outputs": [
    {
     "name": "stderr",
     "output_type": "stream",
     "text": [
      "C:\\Users\\xsjos_000\\AppData\\Local\\Enthought\\Canopy32\\edm\\envs\\User\\lib\\site-packages\\ipykernel\\__main__.py:5: RuntimeWarning: divide by zero encountered in true_divide\n"
     ]
    },
    {
     "data": {
      "image/png": "[encoded data removed]",
      "text/plain": [
       "<matplotlib.figure.Figure at 0x112f590>"
      ]
     },
     "metadata": {},
     "output_type": "display_data"
    },
    {
     "name": "stdout",
     "output_type": "stream",
     "text": [
      "I = 0.838754035216\n"
     ]
    }
   ],
   "source": [
    "import matplotlib.pyplot as plt\n",
    "import numpy as np\n",
    "\n",
    "def f(x):\n",
    "    return 1/np.sqrt(x)/(np.exp(x)+1)\n",
    "\n",
    "x = np.linspace(0,1,100)\n",
    "plt.plot(x, f(x))\n",
    "plt.show()\n",
    "\n",
    "#random points\n",
    "N = 1000000\n",
    "z = random(N)\n",
    "y = z**2\n",
    "\n",
    "def g(y):\n",
    "    return 1/(np.exp(y)+1)\n",
    "\n",
    "I = 2*sum(g(y))/N\n",
    "\n",
    "print('I =',I)"
   ]
  },
  {
   "cell_type": "code",
   "execution_count": null,
   "metadata": {
    "collapsed": true,
    "deletable": true,
    "editable": true
   },
   "outputs": [],
   "source": []
  }
 ],
 "metadata": {
  "kernelspec": {
   "display_name": "Python 3",
   "language": "python",
   "name": "python3"
  },
  "language_info": {
   "codemirror_mode": {
    "name": "ipython",
    "version": 3
   },
   "file_extension": ".py",
   "mimetype": "text/x-python",
   "name": "python",
   "nbconvert_exporter": "python",
   "pygments_lexer": "ipython3",
   "version": "3.5.2"
  }
 },
 "nbformat": 4,
 "nbformat_minor": 2
}
