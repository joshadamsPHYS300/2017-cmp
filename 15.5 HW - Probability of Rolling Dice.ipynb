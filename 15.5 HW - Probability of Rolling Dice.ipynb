{
 "cells": [
  {
   "cell_type": "markdown",
   "metadata": {
    "deletable": true,
    "editable": true
   },
   "source": [
    "## 15.5 Homework\n",
    "\n",
    "- a) Write a program that generates and prints out two random numbers between 1 and 6, to simulate the rolling of two dice.\n",
    "- b) Modify your program to simulate the rolling of two dice a million times (N0) and count the number of times you get double six (N1). Calculate the probability of finding double six in your simulations (N1/N0) \n",
    "- c) Write a code to generate random integers within [-5,5], find the magic series of {a,c,m}. (Don't use the built-in function in numpy)"
   ]
  },
  {
   "cell_type": "code",
   "execution_count": 11,
   "metadata": {
    "collapsed": false,
    "deletable": true,
    "editable": true
   },
   "outputs": [
    {
     "name": "stdout",
     "output_type": "stream",
     "text": [
      "Dice results = 6 and 4\n",
      "Probability of finding double six = 0.027612\n"
     ]
    }
   ],
   "source": [
    "#Parts a and b:\n",
    "\n",
    "from random import randint\n",
    "x = randint(1,6)\n",
    "y = randint(1,6)\n",
    "print('Dice results =',x, 'and',y)\n",
    "\n",
    "count = 0\n",
    "for i in range(1000000):\n",
    "    x = randint(1,6)\n",
    "    y = randint(1,6)\n",
    "    if x==6 and y==6:\n",
    "        count+=1\n",
    "\n",
    "P = count/(1000000)\n",
    "print('Probability of finding double six =', P)"
   ]
  },
  {
   "cell_type": "code",
   "execution_count": 13,
   "metadata": {
    "collapsed": false,
    "deletable": true,
    "editable": true
   },
   "outputs": [
    {
     "data": {
      "image/png": "[encoded data removed]",
      "text/plain": [
       "<matplotlib.figure.Figure at 0x13c1fb0>"
      ]
     },
     "metadata": {},
     "output_type": "display_data"
    }
   ],
   "source": [
    "#Part c:\n",
    "\n",
    "import matplotlib.pyplot as plt\n",
    "\n",
    "N = 100\n",
    "a = 8120 #\"magic\" number 1\n",
    "c = 5060 #\"magic\" number 2\n",
    "m = 11\n",
    "x = 1\n",
    "results = []\n",
    "# a and c cannot both be odd or both be even\n",
    "for i in range(N):\n",
    "    x = (a*x+c)%m\n",
    "    results.append(x)\n",
    "plt.plot(results,\"o\")\n",
    "plt.show()"
   ]
  },
  {
   "cell_type": "code",
   "execution_count": 14,
   "metadata": {
    "collapsed": false,
    "deletable": true,
    "editable": true
   },
   "outputs": [
    {
     "data": {
      "image/png": "[encoded data removed]",
      "text/plain": [
       "<matplotlib.figure.Figure at 0x13c42f0>"
      ]
     },
     "metadata": {},
     "output_type": "display_data"
    }
   ],
   "source": [
    "plt.hist(results)\n",
    "plt.show()"
   ]
  },
  {
   "cell_type": "code",
   "execution_count": null,
   "metadata": {
    "collapsed": true,
    "deletable": true,
    "editable": true
   },
   "outputs": [],
   "source": []
  }
 ],
 "metadata": {
  "kernelspec": {
   "display_name": "Python 3",
   "language": "python",
   "name": "python3"
  },
  "language_info": {
   "codemirror_mode": {
    "name": "ipython",
    "version": 3
   },
   "file_extension": ".py",
   "mimetype": "text/x-python",
   "name": "python",
   "nbconvert_exporter": "python",
   "pygments_lexer": "ipython3",
   "version": "3.5.2"
  }
 },
 "nbformat": 4,
 "nbformat_minor": 2
}
