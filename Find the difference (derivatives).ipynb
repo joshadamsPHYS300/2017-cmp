{
 "cells": [
  {
   "cell_type": "code",
   "execution_count": 1,
   "metadata": {
    "collapsed": false
   },
   "outputs": [
    {
     "data": {
      "image/png": "[encoded data removed]",
      "text/plain": [
       "<matplotlib.figure.Figure at 0x5851170>"
      ]
     },
     "metadata": {},
     "output_type": "display_data"
    },
    {
     "name": "stdout",
     "output_type": "stream",
     "text": [
      "5.460440115045673\n",
      "7.579010901826174\n",
      "2.1185707867805013\n"
     ]
    }
   ],
   "source": [
    "# Let's start with a simple example, try to do integration on x^2 over [0,3]\n",
    "import matplotlib.pyplot as plt\n",
    "import numpy as np\n",
    "\n",
    "#define the function\n",
    "f = lambda x: -x**4 + 4*x**3 + 2\n",
    "\n",
    "#define the parameters\n",
    "x_min, x_max = 0, 3\n",
    "npoints = 100\n",
    "x0 = (x_min+x_max)/2\n",
    "deltax = 0.5\n",
    "\n",
    "#draw the plot\n",
    "x = np.linspace(x_min, x_max, npoints)\n",
    "plt.plot(x,f(x))\n",
    "\n",
    "#draw the derivative\n",
    "x_1 = np.array([x0-deltax, x0, x0+deltax])\n",
    "plt.plot(x_1,f(x_1),'-o')\n",
    "for point in x_1:\n",
    "    linex, liney = [point, point], [0, f(point)]\n",
    "    plt.plot(linex, liney, color='green', linewidth=2.0)  \n",
    "\n",
    "plt.text(x_1[0]+deltax/2, f(x_1[0]+deltax/2)+1, r'backward difference', {'ha': 'left', 'va': 'bottom'}, rotation=90)    \n",
    "plt.text(x_1[1]+deltax/2, f(x_1[1]+deltax/2)+1, r'forward difference', {'ha': 'left', 'va': 'bottom'}, rotation=90)    \n",
    "\n",
    "D1 = ((f(1.5) - f(1.0))**2 + (0.25))**(0.5)\n",
    "D2 = ((f(2.0) - f(1.5))**2 + (0.25))**(0.5)\n",
    "D = D2 - D1\n",
    "    \n",
    "plt.xlabel('x')\n",
    "plt.ylabel('$f(x)$')\n",
    "plt.xlim([0,3])\n",
    "plt.show()\n",
    "print(D1)\n",
    "print(D2)\n",
    "print(D)"
   ]
  },
  {
   "cell_type": "code",
   "execution_count": null,
   "metadata": {
    "collapsed": true
   },
   "outputs": [],
   "source": []
  }
 ],
 "metadata": {
  "kernelspec": {
   "display_name": "Python 3",
   "language": "python",
   "name": "python3"
  },
  "language_info": {
   "codemirror_mode": {
    "name": "ipython",
    "version": 3
   },
   "file_extension": ".py",
   "mimetype": "text/x-python",
   "name": "python",
   "nbconvert_exporter": "python",
   "pygments_lexer": "ipython3",
   "version": "3.5.2"
  }
 },
 "nbformat": 4,
 "nbformat_minor": 2
}
