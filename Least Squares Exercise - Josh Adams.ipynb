{
 "cells": [
  {
   "cell_type": "markdown",
   "metadata": {
    "deletable": true,
    "editable": true
   },
   "source": [
    "Least Square Fitting using data provided by Computational Physics at http://www-personal.umich.edu/~mejn/cp/data/millikan.txt"
   ]
  },
  {
   "cell_type": "code",
   "execution_count": 3,
   "metadata": {
    "collapsed": false,
    "deletable": true,
    "editable": true,
    "scrolled": true
   },
   "outputs": [
    {
     "name": "stdout",
     "output_type": "stream",
     "text": [
      "Data collected from the Computational Physics web site:\n",
      "5.4874e+14 0.5309\n",
      "6.931e+14 1.0842\n",
      "7.4307e+14 1.2734\n",
      "8.2193e+14 1.6598\n",
      "9.6074e+14 2.19856\n",
      "1.184e+15 3.10891\n",
      "\n"
     ]
    }
   ],
   "source": [
    "import requests\n",
    "data = requests.get('http://www-personal.umich.edu/~mejn/cp/data/millikan.txt')\n",
    "collected = \"Data collected from the Computational Physics web site:\"\n",
    "print(collected)\n",
    "print(data.text)"
   ]
  },
  {
   "cell_type": "code",
   "execution_count": 10,
   "metadata": {
    "collapsed": false,
    "deletable": true,
    "editable": true
   },
   "outputs": [
    {
     "name": "stdout",
     "output_type": "stream",
     "text": [
      "Finding Planck's constant using experimental data and the equation for the photoelectric effect\n",
      "slope = 4.08822735852e-15\n",
      "intercept = -1.73123580398\n"
     ]
    },
    {
     "data": {
      "image/png": "[encoded data removed]",
      "text/plain": [
       "<matplotlib.figure.Figure at 0x82b99f0>"
      ]
     },
     "metadata": {},
     "output_type": "display_data"
    },
    {
     "name": "stdout",
     "output_type": "stream",
     "text": [
      "experimental value for h (slope x fundamental charge) = 6.54934022835e-34\n"
     ]
    }
   ],
   "source": [
    "import numpy as np\n",
    "import matplotlib.pyplot as plt\n",
    "data = np.loadtxt(\"millikan.txt\", float)\n",
    "x = data[:, 0]\n",
    "y = data[:, 1]\n",
    "N = np.size(x)\n",
    "E_x = sum(x)/N\n",
    "E_y = sum(y)/N\n",
    "E_xx = sum(x**2)/N\n",
    "E_xy = sum(x*y)/N\n",
    "\n",
    "m = ((E_xy - E_x*E_y) / (E_xx - E_x**2))\n",
    "b = (E_xx*E_y - E_x*E_xy) / (E_xx - E_x**2)\n",
    "    \n",
    "fit = lambda x: m*x + b\n",
    "heading = \"Finding Planck's constant using experimental data and the equation for the photoelectric effect\"\n",
    "print(heading)\n",
    "print('slope =',m)\n",
    "print('intercept =',b)\n",
    "plt.plot(x, y, 'o', color='g', label='data points')\n",
    "plt.plot(x, fit(x), color='purple', label='best fit')\n",
    "plt.xlabel('Frequency')\n",
    "plt.ylabel('Stopping Potential')\n",
    "plt.legend()\n",
    "plt.show()\n",
    "e = 1.602e-19\n",
    "h = m*e\n",
    "print('experimental value for h (slope x fundamental charge) =',h)"
   ]
  },
  {
   "cell_type": "markdown",
   "metadata": {
    "collapsed": true,
    "deletable": true,
    "editable": true
   },
   "source": [
    "KE = Vq = hv - w = (h/q)v - w/q = (h/e)v - w/e"
   ]
  },
  {
   "cell_type": "code",
   "execution_count": null,
   "metadata": {
    "collapsed": true
   },
   "outputs": [],
   "source": []
  }
 ],
 "metadata": {
  "kernelspec": {
   "display_name": "Python 3",
   "language": "python",
   "name": "python3"
  },
  "language_info": {
   "codemirror_mode": {
    "name": "ipython",
    "version": 3
   },
   "file_extension": ".py",
   "mimetype": "text/x-python",
   "name": "python",
   "nbconvert_exporter": "python",
   "pygments_lexer": "ipython3",
   "version": "3.5.2"
  }
 },
 "nbformat": 4,
 "nbformat_minor": 2
}
