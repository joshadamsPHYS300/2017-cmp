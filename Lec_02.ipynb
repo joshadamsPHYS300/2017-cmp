{
 "cells": [
  {
   "cell_type": "markdown",
   "metadata": {
    "deletable": true,
    "editable": true
   },
   "source": [
    "# Physics 300 \n",
    "## Computational Physics I (Fall 2017), BPB-248, Tues/Thurs 10:00 - 11:15 am \n",
    "\n",
    "|Instructor| Prof. Qiang Zhu|\n",
    "|--|-------------------------------|\n",
    "|Email | qiang.zhu@unlv.edu|\n",
    "|Website|http://www.physics.unlv.edu/~qzhu/|\n",
    "|Office| BPB 232|\n",
    "|Office hours | Tues/Thurs 8:30 - 10:00 |\n"
   ]
  },
  {
   "cell_type": "markdown",
   "metadata": {
    "deletable": true,
    "editable": true
   },
   "source": [
    "# 2 Python Basics\n",
    "## 2.1 User inputs\n",
    "raw_input( ) accepts input and stores it as a string. Hence, if the user inputs a integer, the code should convert the string to an integer and then proceed."
   ]
  },
  {
   "cell_type": "code",
   "execution_count": null,
   "metadata": {
    "collapsed": false,
    "deletable": true,
    "editable": true
   },
   "outputs": [],
   "source": [
    "x=input(\"type a value for x: \")\n",
    "y=input(\"type a value for y: \")\n",
    "print ('x+y=',x+y)"
   ]
  },
  {
   "cell_type": "code",
   "execution_count": null,
   "metadata": {
    "collapsed": true,
    "deletable": true,
    "editable": true
   },
   "outputs": [],
   "source": [
    "#Is there anything wrong, how to fix it?"
   ]
  },
  {
   "cell_type": "markdown",
   "metadata": {
    "deletable": true,
    "editable": true
   },
   "source": [
    "# Exercise\n",
    "Let us revisit the program which we wrote for the Rydberg equation\n",
    "\n",
    "$$\\frac{1}{\\lambda} = R (\\frac{1}{m^2} - \\frac{1}{n^2})$$\n",
    "\n",
    "Where $R$ is the Rydberg constant = 1.097 $\\times$ $10^{-2} \\text{nm}^{-1}$, $m$ and $n$ are positive integers. \n",
    "For a given value of $m$, $\\lambda$ is given for this formula for all $n>m$ series, \n",
    "Can we write a program to let the user define m and n from the terminal?\n",
    "\n",
    "```python\n",
    "R = 1.097e-2\n",
    "for m in [1,2,3]:\n",
    "    print \"Series for m = \", m\n",
    "    for k in [1,2,3,4,5]:\n",
    "        n = m + k\n",
    "        invlambda = R*(1.0/m**2 - 1/n**2)\n",
    "        print \"n=\",n, \"  \", 1/invlambda, \"nm\"\n",
    "```\n"
   ]
  },
  {
   "cell_type": "code",
   "execution_count": 3,
   "metadata": {
    "collapsed": false,
    "deletable": true,
    "editable": true
   },
   "outputs": [
    {
     "name": "stdout",
     "output_type": "stream",
     "text": [
      "type a value for m: 1\n",
      "type a value for n: 2\n",
      "m= 1 , n= 2 , wavelength is 121.5436037678517 nm\n"
     ]
    }
   ],
   "source": [
    "# A program to calculate the wavelength from m,n series proived by the user\n",
    "R = 1.097e-2\n",
    "m=int(input(\"type a value for m: \"))\n",
    "n=int(input(\"type a value for n: \"))\n",
    "        \n",
    "invlambda = R*(1.0/m**2 - 1/n**2)\n",
    "print(\"m=\",m, \", n=\",n, ', wavelength is', 1/invlambda, \"nm\")"
   ]
  },
  {
   "cell_type": "markdown",
   "metadata": {
    "deletable": true,
    "editable": true
   },
   "source": [
    "\n",
    "\n",
    "    \n"
   ]
  },
  {
   "cell_type": "markdown",
   "metadata": {
    "collapsed": true,
    "deletable": true,
    "editable": true
   },
   "source": [
    "## Quiz:\n",
    "Here you can actually assign any values to m and n.\n",
    "\n",
    "But the definition says that n must be greater than m! \n",
    "\n",
    "Can we make something to remind the user to retype it if the value is wrong?\n",
    "\n"
   ]
  },
  {
   "cell_type": "code",
   "execution_count": 2,
   "metadata": {
    "collapsed": false,
    "deletable": true,
    "editable": true
   },
   "outputs": [
    {
     "ename": "NameError",
     "evalue": "name 'raw_input' is not defined",
     "output_type": "error",
     "traceback": [
      "\u001b[1;31m---------------------------------------------------------------------------\u001b[0m",
      "\u001b[1;31mNameError\u001b[0m                                 Traceback (most recent call last)",
      "\u001b[1;32m<ipython-input-2-29643e9d6f8b>\u001b[0m in \u001b[0;36m<module>\u001b[1;34m()\u001b[0m\n\u001b[0;32m      3\u001b[0m \u001b[0mgood_m\u001b[0m \u001b[1;33m=\u001b[0m \u001b[1;32mFalse\u001b[0m\u001b[1;33m\u001b[0m\u001b[0m\n\u001b[0;32m      4\u001b[0m \u001b[1;32mwhile\u001b[0m \u001b[0mgood_m\u001b[0m \u001b[1;32mis\u001b[0m \u001b[1;32mFalse\u001b[0m\u001b[1;33m:\u001b[0m\u001b[1;33m\u001b[0m\u001b[0m\n\u001b[1;32m----> 5\u001b[1;33m     \u001b[0mm\u001b[0m\u001b[1;33m=\u001b[0m\u001b[0mint\u001b[0m\u001b[1;33m(\u001b[0m\u001b[0mraw_input\u001b[0m\u001b[1;33m(\u001b[0m\u001b[1;34m\"type a value for m: \"\u001b[0m\u001b[1;33m)\u001b[0m\u001b[1;33m)\u001b[0m\u001b[1;33m\u001b[0m\u001b[0m\n\u001b[0m\u001b[0;32m      6\u001b[0m     \u001b[1;32mif\u001b[0m \u001b[0mm\u001b[0m \u001b[1;33m<=\u001b[0m \u001b[1;36m0\u001b[0m\u001b[1;33m:\u001b[0m\u001b[1;33m\u001b[0m\u001b[0m\n\u001b[0;32m      7\u001b[0m         \u001b[0mprint\u001b[0m \u001b[1;33m(\u001b[0m\u001b[1;34m\"m must be positive integer, please enter another number:\"\u001b[0m\u001b[1;33m)\u001b[0m\u001b[1;33m\u001b[0m\u001b[0m\n",
      "\u001b[1;31mNameError\u001b[0m: name 'raw_input' is not defined"
     ]
    }
   ],
   "source": [
    "# Try to add something here to remind the user not to assign ridiculus numbers!\n",
    "R = 1.097e-2\n",
    "good_m = False\n",
    "while good_m is False:\n",
    "    m=int(raw_input(\"type a value for m: \"))\n",
    "    if m <= 0:\n",
    "        print (\"m must be positive integer, please enter another number:\")\n",
    "    else:\n",
    "        good_m = True\n",
    "\n",
    "good_n = False\n",
    "while good_n is False:        \n",
    "    n=int(raw_input(\"type a value for n: \"))\n",
    "    if n<=m:\n",
    "        print (\"n must be greater than \", m, \"please enter another number:\")\n",
    "    else:\n",
    "        good_n = True\n",
    "invlambda = R*(1.0/m**2 - 1/n**2)\n",
    "print (\"m=\",m, \", n=\",n, ', wavelength is', 1/invlambda, \"nm\")"
   ]
  },
  {
   "cell_type": "markdown",
   "metadata": {
    "collapsed": false,
    "deletable": true,
    "editable": true
   },
   "source": [
    "## 2.2 Control Flow Statements\n",
    "## If\n",
    "\n",
    "if some_condition:\n",
    "\n",
    "    do something\n",
    "\n",
    "\n",
    "## If-else\n",
    "\n",
    "if some_condition:\n",
    "\n",
    "    do something\n",
    "\n",
    "else:\n",
    "\n",
    "    do something else\n",
    "    \n",
    "## if-elif-else\n",
    "\n",
    "if some_condition:\n",
    "\n",
    "    do case 1\n",
    "\n",
    "elif some_condition:\n",
    "\n",
    "    do case 2\n",
    "\n",
    "else:\n",
    "\n",
    "    do case 3\n",
    "    \n",
    "## for loop\n",
    "\n",
    "for variable in something:\n",
    "\n",
    "    do something\n",
    "    \n",
    "## While\n",
    "\n",
    "while some_condition:\n",
    "\n",
    "    algorithm\n",
    "    \n",
    "## Break\n",
    "\n",
    "    As the name says. It is used to break out of a loop when a condition becomes true when executing the loop.\n",
    "\n",
    "## Continue\n",
    "    This continues the rest of the loop. Sometimes when a condition is satisfied there are chances of the loop getting terminated. This can be avoided using continue statement.\n",
    "    \n",
    "## Tips\n",
    "1, Be aware that you must end up with : sign, when you write the sentence of condition\n",
    "\n",
    "2, Indentation is required by python\n"
   ]
  },
  {
   "cell_type": "markdown",
   "metadata": {
    "collapsed": true,
    "deletable": true,
    "editable": true
   },
   "source": [
    "## Quiz:\n",
    "What is the key diffrence between for and while?"
   ]
  },
  {
   "cell_type": "code",
   "execution_count": null,
   "metadata": {
    "collapsed": true,
    "deletable": true,
    "editable": true
   },
   "outputs": [],
   "source": [
    "R = 1.097e-2\n",
    "m=int(input('provide a m integer greater than zero.'))\n",
    "n=int(input('provide a n integer greater than zero.'))\n"
   ]
  },
  {
   "cell_type": "code",
   "execution_count": null,
   "metadata": {
    "collapsed": false,
    "deletable": true,
    "editable": true
   },
   "outputs": [],
   "source": [
    "# Suggest some cases!\n",
    "R = 1.097e-2\n",
    "for m in [1,2,3]:\n",
    "    m=int(input('enter m value:'))\n",
    "    for k in [1,2,3,4,5]:\n",
    "        n = m + k\n",
    "        if m>3:\n",
    "                print('warning')\n",
    "        invlambda = R*(1.0/m**2 - 1/n**2)\n",
    "        print (\"n=\",n, \"  \", 1/invlambda, \"nm\")"
   ]
  },
  {
   "cell_type": "markdown",
   "metadata": {
    "deletable": true,
    "editable": true
   },
   "source": [
    "## 2.3 Function\n",
    "\n",
    "Most of the times, In a algorithm the statements keep repeating and __it will be a tedious job to execute the same statements again and again__ and will consume a lot of memory and is not efficient. \n",
    "\n",
    "In order to avoid this, we can define a function here\n",
    "\n",
    "This is the basic syntax of a function\n",
    "\n",
    "```python\n",
    "def funcname(arg1, arg2,... argN):\n",
    "\n",
    "    ''' Document String'''\n",
    "\n",
    "    statements\n",
    "\n",
    "    return <value>\n",
    "```\n",
    "Read the above syntax as, A function by name \"funcname\" is defined, which accepts arguements \"arg1,arg2,....argN\". The function is documented and it is '''Document String'''. The function after executing the statements returns a \"value\"."
   ]
  },
  {
   "cell_type": "code",
   "execution_count": null,
   "metadata": {
    "collapsed": false,
    "deletable": true,
    "editable": true
   },
   "outputs": [],
   "source": [
    "# Try to add something here to remind the user not to assign ridiculus numbers!\n",
    "\n",
    "R = 1.097e-2\n",
    "\n",
    "def calc_lambda(m,n):\n",
    "    '''This is a function to calculate lambda based on m and n'''\n",
    "    return 1/(R*(1.0/m**2 - 1/n**2))\n",
    "\n",
    "\n",
    "good_m = False\n",
    "while good_m is False:\n",
    "    m=int(raw_input(\"type a value for m: \"))\n",
    "    if m <= 0:\n",
    "        print \"m must be positive integer, please enter another number:\"\n",
    "    else:\n",
    "        good_m = True\n",
    "\n",
    "good_n = False\n",
    "while good_n is False:        \n",
    "    n=int(raw_input(\"type a value for n: \"))\n",
    "    if n<=m:\n",
    "        print \"n must be greater than \", m, \"please enter another number:\"\n",
    "    else:\n",
    "        good_n = True\n",
    "\n",
    "lambda_w = calc_lambda(m,n)\n",
    "print \"m=\",m, \", n=\",n, ', wavelength is', lambda_w, \"nm\""
   ]
  },
  {
   "cell_type": "markdown",
   "metadata": {
    "collapsed": false,
    "deletable": true,
    "editable": true
   },
   "source": [
    "### Fibonacci number\n",
    "In mathematics, the Fibonacci numbers are the numbers in the following integer sequence, called the Fibonacci sequence, and characterized by the fact that every number after the first two is the sum of the two preceding ones:\n",
    "\n",
    "1, 1, 2, 3, 5, 8, 13, 21, 44, 55, 89, 144\n"
   ]
  },
  {
   "cell_type": "code",
   "execution_count": 4,
   "metadata": {
    "collapsed": false,
    "deletable": true,
    "editable": true
   },
   "outputs": [
    {
     "name": "stdout",
     "output_type": "stream",
     "text": [
      "1\n",
      "2\n",
      "3\n",
      "5\n",
      "8\n",
      "13\n",
      "21\n",
      "34\n",
      "55\n",
      "89\n",
      "144\n",
      "233\n",
      "377\n",
      "610\n",
      "987\n"
     ]
    }
   ],
   "source": [
    "f1 = 1\n",
    "f2 = 2\n",
    "while f1<1000:\n",
    "    print(f1)\n",
    "    fnext = f1 + f2\n",
    "    f1 = f2\n",
    "    f2 = fnext"
   ]
  },
  {
   "cell_type": "code",
   "execution_count": 6,
   "metadata": {
    "collapsed": false,
    "deletable": true,
    "editable": true
   },
   "outputs": [
    {
     "name": "stdout",
     "output_type": "stream",
     "text": [
      "1\n",
      "1\n",
      "2\n",
      "3\n",
      "5\n",
      "8\n",
      "13\n",
      "21\n",
      "34\n",
      "55\n",
      "89\n",
      "144\n",
      "233\n",
      "377\n",
      "610\n",
      "987\n"
     ]
    }
   ],
   "source": [
    "f1,f2 = 1,1\n",
    "while f1<=1000:\n",
    "    print(f1)\n",
    "    f1,f2 = f2,f1+f2"
   ]
  },
  {
   "cell_type": "markdown",
   "metadata": {
    "deletable": true,
    "editable": true
   },
   "source": [
    "### Lambda Functions\n",
    "These are small functions which are not defined with any name and carry a single expression whose result is returned. Lambda functions comes very handy when operating with lists. These function are defined by the keyword lambda followed by the variables, a colon and the respective expression."
   ]
  },
  {
   "cell_type": "code",
   "execution_count": null,
   "metadata": {
    "collapsed": false,
    "deletable": true,
    "editable": true
   },
   "outputs": [],
   "source": [
    "z = lambda x: x * x\n"
   ]
  },
  {
   "cell_type": "code",
   "execution_count": null,
   "metadata": {
    "collapsed": false,
    "deletable": true,
    "editable": true
   },
   "outputs": [],
   "source": [
    "z(8)"
   ]
  },
  {
   "cell_type": "markdown",
   "metadata": {
    "deletable": true,
    "editable": true
   },
   "source": [
    "## 2.4 Exercise \n",
    "### Combinatorics and Two-state systems\n",
    "\n",
    "Suppose we are flipping three coins. How many possible outcomes are there?\n",
    "\n",
    "|Coin 1 | Coin 2| Coin 3|\n",
    "|:-----:|:-----:|:-----:|\n",
    "|H|H|H|\n",
    "|H|H|T|\n",
    "|H|T|H|\n",
    "|T|H|H|\n",
    "|H|T|T|\n",
    "|T|T|H|\n",
    "|T|H|T|\n",
    "|T|H|T|\n",
    "\n",
    "Since all coins are indistinguishable, we are more interested in how many heads are there in all outcomes?\n",
    "By simply counting the number from the above table, we know\n",
    "\n",
    "3 heads, HHH \n",
    "\n",
    "2 heads, HHT, HTH, THH\n",
    "\n",
    "1 head, HTT, TTH, THT\n",
    "\n",
    "0 head, TTT\n",
    "\n",
    "each state is called _microstate_.\n",
    "\n",
    "_microstate_: Each of the eight different outcomes\n",
    "\n",
    "_macrostate_: How many heads are there in all outcomes\n",
    "\n",
    "Although each microstate is equal to exist, but macrostates have different probabilies to explored. Clearly,\n",
    "2 heads is more likely to be found than 3 heads. Here we introduce another quantity,\n",
    "\n",
    "_multiplicity_ ($\\Omega$): the number of microstates in a given macrostate.\n",
    "\n",
    "In the context of coin games, let's define $\\Omega(n)$ as the number of cases when we get $n$ heads. If the total number\n",
    "of coins is $N$, we can derive the equations as follows,\n",
    "\n",
    "$$\\Omega(N,n) = = \\frac{N!}{n!\\cdot(N-n)!} = \\binom{N}{n}$$\n",
    "\n",
    "What will happen if we increase $N$. Let's try $N$ with different numbers (say 5, 10, 20) "
   ]
  },
  {
   "cell_type": "code",
   "execution_count": 3,
   "metadata": {
    "collapsed": false,
    "deletable": true,
    "editable": true
   },
   "outputs": [
    {
     "ename": "NameError",
     "evalue": "name 'raw_input' is not defined",
     "output_type": "error",
     "traceback": [
      "\u001b[1;31m---------------------------------------------------------------------------\u001b[0m",
      "\u001b[1;31mNameError\u001b[0m                                 Traceback (most recent call last)",
      "\u001b[1;32m<ipython-input-3-9c06adeda578>\u001b[0m in \u001b[0;36m<module>\u001b[1;34m()\u001b[0m\n\u001b[0;32m     12\u001b[0m     \u001b[1;32mreturn\u001b[0m \u001b[0mfactor\u001b[0m\u001b[1;33m(\u001b[0m\u001b[0mN\u001b[0m\u001b[1;33m)\u001b[0m\u001b[1;33m/\u001b[0m\u001b[0mfactor\u001b[0m\u001b[1;33m(\u001b[0m\u001b[0mn\u001b[0m\u001b[1;33m)\u001b[0m\u001b[1;33m/\u001b[0m\u001b[0mfactor\u001b[0m\u001b[1;33m(\u001b[0m\u001b[0mN\u001b[0m\u001b[1;33m-\u001b[0m\u001b[0mn\u001b[0m\u001b[1;33m)\u001b[0m\u001b[1;33m\u001b[0m\u001b[0m\n\u001b[0;32m     13\u001b[0m \u001b[1;33m\u001b[0m\u001b[0m\n\u001b[1;32m---> 14\u001b[1;33m \u001b[0mN\u001b[0m\u001b[1;33m=\u001b[0m\u001b[0mint\u001b[0m\u001b[1;33m(\u001b[0m\u001b[0mraw_input\u001b[0m\u001b[1;33m(\u001b[0m\u001b[1;34m\"type a value for N: \"\u001b[0m\u001b[1;33m)\u001b[0m\u001b[1;33m)\u001b[0m\u001b[1;33m\u001b[0m\u001b[0m\n\u001b[0m\u001b[0;32m     15\u001b[0m \u001b[1;33m\u001b[0m\u001b[0m\n\u001b[0;32m     16\u001b[0m \u001b[1;33m\u001b[0m\u001b[0m\n",
      "\u001b[1;31mNameError\u001b[0m: name 'raw_input' is not defined"
     ]
    }
   ],
   "source": [
    "#Multiplicity calculation\n",
    "def factor(N):\n",
    "    if N == 0 or N == 1:\n",
    "        return 1\n",
    "    else: \n",
    "        total = 1\n",
    "        for i in range(2,N+1):\n",
    "            total *= i\n",
    "        return total     \n",
    "\n",
    "def Multiplicity(N,n):\n",
    "    return factor(N)/factor(n)/factor(N-n)\n",
    "    \n",
    "N=int(raw_input(\"type a value for N: \"))\n",
    "    \n",
    "    \n",
    "for n in range(N+1):\n",
    "    print ('when n=', n, ';  the multiplicity is'),  Multiplicity(N,n)"
   ]
  },
  {
   "cell_type": "markdown",
   "metadata": {
    "collapsed": true,
    "deletable": true,
    "editable": true
   },
   "source": [
    "## 2.5 Homework\n",
    "### The Einstein Model of a Solid\n",
    "\n",
    "A solid crystal is composed of atoms. Einstein proposed that a model that each atom is pretty much a harmonic oscillator \n",
    "because it is attached by some springs to the adjacent atoms in the crystal lattice.\n",
    "\n",
    "<img src=\"https://github.com/qzhu2017/2017-cmp/blob/master/img/einsteins-solid.jpg\">\n",
    "\n",
    "In each oscillator, the energy has quantized separation (0,1,2,.....)\n",
    "Suppose there are only 3 oscillators, the energy could be\n",
    "\n",
    "|Oscillator | 1| 2|\n",
    "|:-----:|:-----:|:-----:|\n",
    "|Energy|0|0|\n",
    "| |1|0|\n",
    "| |0|1|\n",
    "| |1|1|\n",
    "| |2|0|\n",
    "| |0|2|\n",
    "Namely,\n",
    "\n",
    "   When the total energy ($q$) is 0, $\\Omega$=1 \n",
    "\n",
    "   When the total energy ($q$) is 1, $\\Omega$=2 \n",
    "\n",
    "   When the total energy ($q$) is 2, $\\Omega$=3\n",
    "\n",
    "The generalized form is\n",
    " $$\\Omega(N, q) = \\binom{q+N-1}{q} = \\frac{(q+N-1)!}{q!(N-1)!}$$\n",
    " \n",
    " \n",
    "Try to prove this formula and write a code to compute $\\Omega$ for any ($N$, $q$)\n"
   ]
  },
  {
   "cell_type": "code",
   "execution_count": 1,
   "metadata": {
    "collapsed": false,
    "deletable": true,
    "editable": true
   },
   "outputs": [],
   "source": [
    "def factorial(z):\n",
    "    if z == 0:\n",
    "        return 1\n",
    "    else:\n",
    "        return z * factorial(z-1)\n",
    "    good_z = False"
   ]
  },
  {
   "cell_type": "code",
   "execution_count": 2,
   "metadata": {
    "collapsed": false,
    "deletable": true,
    "editable": true
   },
   "outputs": [
    {
     "data": {
      "text/plain": [
       "24"
      ]
     },
     "execution_count": 2,
     "metadata": {},
     "output_type": "execute_result"
    }
   ],
   "source": [
    "factorial(4)"
   ]
  },
  {
   "cell_type": "code",
   "execution_count": null,
   "metadata": {
    "collapsed": false,
    "deletable": true,
    "editable": true
   },
   "outputs": [],
   "source": [
    "def calc_sigma(N,q):\n",
    "    return factorial(q+N-1)/(factorial(q)*factorial(N-1))\n",
    "\n",
    "good_N = False\n",
    "while good_N is False:\n",
    "    N=int(input(\"type a value for N oscillators: \"))\n",
    "    if N <0:\n",
    "        print (\"N must be a positive integer!\")\n",
    "    else:\n",
    "        good_N = True\n",
    "good_q = False\n",
    "while good_q is False:        \n",
    "    q=int(input(\"type a value for q energy units: \"))\n",
    "    if q<0:\n",
    "        print (\"q must be a positive integer!\")\n",
    "    else:\n",
    "        good_q = True\n",
    "\n",
    "sigma_w = calc_sigma(N,q)\n",
    "print (\"N=\",N, \", q=\",q, ', Multiplicity is', sigma_w, \"energy units\")"
   ]
  },
  {
   "cell_type": "code",
   "execution_count": 11,
   "metadata": {
    "collapsed": false
   },
   "outputs": [
    {
     "data": {
      "text/plain": [
       "False"
      ]
     },
     "execution_count": 11,
     "metadata": {},
     "output_type": "execute_result"
    }
   ],
   "source": [
    "type('l') == 'int'"
   ]
  },
  {
   "cell_type": "code",
   "execution_count": null,
   "metadata": {
    "collapsed": true,
    "deletable": true,
    "editable": true
   },
   "outputs": [],
   "source": []
  }
 ],
 "metadata": {
  "kernelspec": {
   "display_name": "Python 3",
   "language": "python",
   "name": "python3"
  },
  "language_info": {
   "codemirror_mode": {
    "name": "ipython",
    "version": 3
   },
   "file_extension": ".py",
   "mimetype": "text/x-python",
   "name": "python",
   "nbconvert_exporter": "python",
   "pygments_lexer": "ipython3",
   "version": "3.5.2"
  }
 },
 "nbformat": 4,
 "nbformat_minor": 2
}
