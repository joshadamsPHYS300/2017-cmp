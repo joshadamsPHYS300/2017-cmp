{
 "cells": [
  {
   "cell_type": "code",
   "execution_count": 3,
   "metadata": {
    "collapsed": false,
    "deletable": true,
    "editable": true
   },
   "outputs": [
    {
     "data": {
      "text/plain": [
       "array([ -3.44505240e-16 +1.14383329e-17j,\n",
       "         8.00000000e+00 -5.71092652e-15j,\n",
       "         2.33482938e-16 +1.22460635e-16j,\n",
       "         1.64863782e-15 +1.77635684e-15j,\n",
       "         9.95839695e-17 +2.33482938e-16j,\n",
       "         0.00000000e+00 +1.66837030e-15j,\n",
       "         1.14383329e-17 +1.22460635e-16j,  -1.64863782e-15 +1.77635684e-15j])"
      ]
     },
     "execution_count": 3,
     "metadata": {},
     "output_type": "execute_result"
    }
   ],
   "source": [
    "#calculating a FFT using symmetries, real and imaginary parts\n",
    "np.fft.fft(np.exp(2j * np.pi * np.arange(8) / 8))\n",
    "array([ -3.44505240e-16 +1.14383329e-17j,\n",
    "         8.00000000e+00 -5.71092652e-15j,\n",
    "         2.33482938e-16 +1.22460635e-16j,\n",
    "         1.64863782e-15 +1.77635684e-15j,\n",
    "         9.95839695e-17 +2.33482938e-16j,\n",
    "         0.00000000e+00 +1.66837030e-15j,\n",
    "         1.14383329e-17 +1.22460635e-16j,\n",
    "         -1.64863782e-15 +1.77635684e-15j])"
   ]
  },
  {
   "cell_type": "code",
   "execution_count": 13,
   "metadata": {
    "collapsed": false,
    "deletable": true,
    "editable": true
   },
   "outputs": [
    {
     "data": {
      "image/png": "[encoded data removed]",
      "text/plain": [
       "<matplotlib.figure.Figure at 0x9f5290>"
      ]
     },
     "metadata": {},
     "output_type": "display_data"
    }
   ],
   "source": [
    "import matplotlib.pyplot as plt\n",
    "z = np.arange(256)\n",
    "sp = np.fft.fft(np.sin(z))\n",
    "frequeny = np.fft.fftfreq(z.shape[-1])\n",
    "plt.plot(frequency, sp.real, frequency, sp.imag)\n",
    "plt.show()"
   ]
  },
  {
   "cell_type": "code",
   "execution_count": null,
   "metadata": {
    "collapsed": true
   },
   "outputs": [],
   "source": []
  }
 ],
 "metadata": {
  "kernelspec": {
   "display_name": "Python 3",
   "language": "python",
   "name": "python3"
  },
  "language_info": {
   "codemirror_mode": {
    "name": "ipython",
    "version": 3
   },
   "file_extension": ".py",
   "mimetype": "text/x-python",
   "name": "python",
   "nbconvert_exporter": "python",
   "pygments_lexer": "ipython3",
   "version": "3.5.2"
  }
 },
 "nbformat": 4,
 "nbformat_minor": 2
}
